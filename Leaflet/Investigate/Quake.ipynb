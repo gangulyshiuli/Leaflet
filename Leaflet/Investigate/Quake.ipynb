{
 "cells": [
  {
   "cell_type": "code",
   "execution_count": 1,
   "metadata": {},
   "outputs": [],
   "source": [
    "import pandas as pd"
   ]
  },
  {
   "cell_type": "code",
   "execution_count": 9,
   "metadata": {},
   "outputs": [],
   "source": [
    "quake_path = 'week.json'"
   ]
  },
  {
   "cell_type": "code",
   "execution_count": 27,
   "metadata": {},
   "outputs": [],
   "source": [
    "quake = {\"type\":\"Feature\",\n",
    "          \"properties\":{\n",
    "                          \"mag\":3.36,\n",
    "                          \"place\":\"8km NE of Alum Rock, CA\",\n",
    "                          \"time\":1592415302600,\n",
    "                          \"updated\":1592515379070,\n",
    "                          \"tz\":\"null\",\n",
    "                          \"url\":\"https://earthquake.usgs.gov/earthquakes/eventpage/nc73410846\",\n",
    "                          \"detail\":\"https://earthquake.usgs.gov/earthquakes/feed/v1.0/detail/nc73410846.geojson\",\n",
    "                          \"felt\":4191,\n",
    "                          \"cdi\":4.8,\n",
    "                          \"mmi\":4.05,\n",
    "                          \"alert\":\"null\",\n",
    "                          \"status\":\"reviewed\",\n",
    "                          \"tsunami\":0,\n",
    "                          \"sig\":654,\n",
    "                          \"net\":\"nc\",\n",
    "                          \"code\":\"73410846\",\n",
    "                          \"ids\":\",nc73410846, us6000adln,\",\n",
    "                          \"sources\":\",nc,us,\",\n",
    "                          \"types\":\",dyfi,focal-mechanism,moment-tensor,nearby-cities,origin,phase-data,scitech-link,shakemap,\",\n",
    "                          \"nst\":183,\n",
    "                          \"dmin\":0.04136,\n",
    "                          \"rms\":0.09,\n",
    "                          \"gap\":30,\n",
    "                          \"magType\":\"mw\",\n",
    "                          \"type\":\"earthquake\",\n",
    "                          \"title\":\"M 3.4 - 8km NE of Alum Rock, CA\"\n",
    "                      },\n",
    "          \"geometry\":{\"type\":\"Point\",\"coordinates\":[-121.7625,37.414,8.23]},\"id\":\"nc73410846\"}\n",
    "\n"
   ]
  },
  {
   "cell_type": "code",
   "execution_count": 28,
   "metadata": {},
   "outputs": [
    {
     "data": {
      "text/plain": [
       "{'type': 'Feature',\n",
       " 'properties': {'mag': 3.36,\n",
       "  'place': '8km NE of Alum Rock, CA',\n",
       "  'time': 1592415302600,\n",
       "  'updated': 1592515379070,\n",
       "  'tz': 'null',\n",
       "  'url': 'https://earthquake.usgs.gov/earthquakes/eventpage/nc73410846',\n",
       "  'detail': 'https://earthquake.usgs.gov/earthquakes/feed/v1.0/detail/nc73410846.geojson',\n",
       "  'felt': 4191,\n",
       "  'cdi': 4.8,\n",
       "  'mmi': 4.05,\n",
       "  'alert': 'null',\n",
       "  'status': 'reviewed',\n",
       "  'tsunami': 0,\n",
       "  'sig': 654,\n",
       "  'net': 'nc',\n",
       "  'code': '73410846',\n",
       "  'ids': ',nc73410846, us6000adln,',\n",
       "  'sources': ',nc,us,',\n",
       "  'types': ',dyfi,focal-mechanism,moment-tensor,nearby-cities,origin,phase-data,scitech-link,shakemap,',\n",
       "  'nst': 183,\n",
       "  'dmin': 0.04136,\n",
       "  'rms': 0.09,\n",
       "  'gap': 30,\n",
       "  'magType': 'mw',\n",
       "  'type': 'earthquake',\n",
       "  'title': 'M 3.4 - 8km NE of Alum Rock, CA'},\n",
       " 'geometry': {'type': 'Point', 'coordinates': [-121.7625, 37.414, 8.23]},\n",
       " 'id': 'nc73410846'}"
      ]
     },
     "execution_count": 28,
     "metadata": {},
     "output_type": "execute_result"
    }
   ],
   "source": [
    "quake"
   ]
  },
  {
   "cell_type": "code",
   "execution_count": 30,
   "metadata": {},
   "outputs": [
    {
     "data": {
      "text/plain": [
       "{'type': 'Point', 'coordinates': [-121.7625, 37.414, 8.23]}"
      ]
     },
     "execution_count": 30,
     "metadata": {},
     "output_type": "execute_result"
    }
   ],
   "source": [
    "quake[\"geometry\"]"
   ]
  },
  {
   "cell_type": "code",
   "execution_count": 32,
   "metadata": {},
   "outputs": [],
   "source": [
    "quake_geometry = []"
   ]
  },
  {
   "cell_type": "code",
   "execution_count": 33,
   "metadata": {},
   "outputs": [],
   "source": [
    "quake_geometry.append(quake[\"geometry\"])"
   ]
  },
  {
   "cell_type": "code",
   "execution_count": 34,
   "metadata": {},
   "outputs": [
    {
     "data": {
      "text/plain": [
       "[{'type': 'Point', 'coordinates': [-121.7625, 37.414, 8.23]}]"
      ]
     },
     "execution_count": 34,
     "metadata": {},
     "output_type": "execute_result"
    }
   ],
   "source": [
    "quake_geometry"
   ]
  },
  {
   "cell_type": "code",
   "execution_count": 35,
   "metadata": {},
   "outputs": [],
   "source": [
    "quake_list = []"
   ]
  },
  {
   "cell_type": "code",
   "execution_count": 36,
   "metadata": {},
   "outputs": [],
   "source": [
    "quake_list.append(quake)"
   ]
  },
  {
   "cell_type": "code",
   "execution_count": 37,
   "metadata": {},
   "outputs": [
    {
     "data": {
      "text/plain": [
       "[{'type': 'Feature',\n",
       "  'properties': {'mag': 3.36,\n",
       "   'place': '8km NE of Alum Rock, CA',\n",
       "   'time': 1592415302600,\n",
       "   'updated': 1592515379070,\n",
       "   'tz': 'null',\n",
       "   'url': 'https://earthquake.usgs.gov/earthquakes/eventpage/nc73410846',\n",
       "   'detail': 'https://earthquake.usgs.gov/earthquakes/feed/v1.0/detail/nc73410846.geojson',\n",
       "   'felt': 4191,\n",
       "   'cdi': 4.8,\n",
       "   'mmi': 4.05,\n",
       "   'alert': 'null',\n",
       "   'status': 'reviewed',\n",
       "   'tsunami': 0,\n",
       "   'sig': 654,\n",
       "   'net': 'nc',\n",
       "   'code': '73410846',\n",
       "   'ids': ',nc73410846, us6000adln,',\n",
       "   'sources': ',nc,us,',\n",
       "   'types': ',dyfi,focal-mechanism,moment-tensor,nearby-cities,origin,phase-data,scitech-link,shakemap,',\n",
       "   'nst': 183,\n",
       "   'dmin': 0.04136,\n",
       "   'rms': 0.09,\n",
       "   'gap': 30,\n",
       "   'magType': 'mw',\n",
       "   'type': 'earthquake',\n",
       "   'title': 'M 3.4 - 8km NE of Alum Rock, CA'},\n",
       "  'geometry': {'type': 'Point', 'coordinates': [-121.7625, 37.414, 8.23]},\n",
       "  'id': 'nc73410846'}]"
      ]
     },
     "execution_count": 37,
     "metadata": {},
     "output_type": "execute_result"
    }
   ],
   "source": [
    "quake_list"
   ]
  },
  {
   "cell_type": "code",
   "execution_count": 38,
   "metadata": {},
   "outputs": [],
   "source": [
    "Earthquake = []\n",
    "Earthquake.append(quake)"
   ]
  },
  {
   "cell_type": "code",
   "execution_count": 39,
   "metadata": {},
   "outputs": [
    {
     "data": {
      "text/plain": [
       "{'type': 'Feature',\n",
       " 'properties': {'mag': 3.36,\n",
       "  'place': '8km NE of Alum Rock, CA',\n",
       "  'time': 1592415302600,\n",
       "  'updated': 1592515379070,\n",
       "  'tz': 'null',\n",
       "  'url': 'https://earthquake.usgs.gov/earthquakes/eventpage/nc73410846',\n",
       "  'detail': 'https://earthquake.usgs.gov/earthquakes/feed/v1.0/detail/nc73410846.geojson',\n",
       "  'felt': 4191,\n",
       "  'cdi': 4.8,\n",
       "  'mmi': 4.05,\n",
       "  'alert': 'null',\n",
       "  'status': 'reviewed',\n",
       "  'tsunami': 0,\n",
       "  'sig': 654,\n",
       "  'net': 'nc',\n",
       "  'code': '73410846',\n",
       "  'ids': ',nc73410846, us6000adln,',\n",
       "  'sources': ',nc,us,',\n",
       "  'types': ',dyfi,focal-mechanism,moment-tensor,nearby-cities,origin,phase-data,scitech-link,shakemap,',\n",
       "  'nst': 183,\n",
       "  'dmin': 0.04136,\n",
       "  'rms': 0.09,\n",
       "  'gap': 30,\n",
       "  'magType': 'mw',\n",
       "  'type': 'earthquake',\n",
       "  'title': 'M 3.4 - 8km NE of Alum Rock, CA'},\n",
       " 'geometry': {'type': 'Point', 'coordinates': [-121.7625, 37.414, 8.23]},\n",
       " 'id': 'nc73410846'}"
      ]
     },
     "execution_count": 39,
     "metadata": {},
     "output_type": "execute_result"
    }
   ],
   "source": [
    "Earthquake[0]"
   ]
  },
  {
   "cell_type": "code",
   "execution_count": 40,
   "metadata": {},
   "outputs": [
    {
     "ename": "NameError",
     "evalue": "name 'null' is not defined",
     "output_type": "error",
     "traceback": [
      "\u001b[0;31m---------------------------------------------------------------------------\u001b[0m",
      "\u001b[0;31mNameError\u001b[0m                                 Traceback (most recent call last)",
      "\u001b[0;32m<ipython-input-40-8cf9e3b94adb>\u001b[0m in \u001b[0;36m<module>\u001b[0;34m\u001b[0m\n\u001b[0;32m----> 1\u001b[0;31m \u001b[0mquake\u001b[0m \u001b[0;34m=\u001b[0m \u001b[0;34m{\u001b[0m\u001b[0;34m\"type\"\u001b[0m\u001b[0;34m:\u001b[0m\u001b[0;34m\"Feature\"\u001b[0m\u001b[0;34m,\u001b[0m\u001b[0;34m\"properties\"\u001b[0m\u001b[0;34m:\u001b[0m\u001b[0;34m{\u001b[0m\u001b[0;34m\"mag\"\u001b[0m\u001b[0;34m:\u001b[0m\u001b[0;36m5.1\u001b[0m\u001b[0;34m,\u001b[0m\u001b[0;34m\"place\"\u001b[0m\u001b[0;34m:\u001b[0m\u001b[0;34m\"10 km NNE of Bhach?u, India\"\u001b[0m\u001b[0;34m,\u001b[0m\u001b[0;34m\"time\"\u001b[0m\u001b[0;34m:\u001b[0m\u001b[0;36m1592145788290\u001b[0m\u001b[0;34m,\u001b[0m\u001b[0;34m\"updated\"\u001b[0m\u001b[0;34m:\u001b[0m\u001b[0;36m1592500322647\u001b[0m\u001b[0;34m,\u001b[0m\u001b[0;34m\"tz\"\u001b[0m\u001b[0;34m:\u001b[0m\u001b[0mnull\u001b[0m\u001b[0;34m,\u001b[0m\u001b[0;34m\"url\"\u001b[0m\u001b[0;34m:\u001b[0m\u001b[0;34m\"https://earthquake.usgs.gov/earthquakes/eventpage/us6000abp7\"\u001b[0m\u001b[0;34m,\u001b[0m\u001b[0;34m\"detail\"\u001b[0m\u001b[0;34m:\u001b[0m\u001b[0;34m\"https://earthquake.usgs.gov/earthquakes/feed/v1.0/detail/us6000abp7.geojson\"\u001b[0m\u001b[0;34m,\u001b[0m\u001b[0;34m\"felt\"\u001b[0m\u001b[0;34m:\u001b[0m\u001b[0;36m434\u001b[0m\u001b[0;34m,\u001b[0m\u001b[0;34m\"cdi\"\u001b[0m\u001b[0;34m:\u001b[0m\u001b[0;36m5.4\u001b[0m\u001b[0;34m,\u001b[0m\u001b[0;34m\"mmi\"\u001b[0m\u001b[0;34m:\u001b[0m\u001b[0;36m6.697\u001b[0m\u001b[0;34m,\u001b[0m\u001b[0;34m\"alert\"\u001b[0m\u001b[0;34m:\u001b[0m\u001b[0;34m\"yellow\"\u001b[0m\u001b[0;34m,\u001b[0m\u001b[0;34m\"status\"\u001b[0m\u001b[0;34m:\u001b[0m\u001b[0;34m\"reviewed\"\u001b[0m\u001b[0;34m,\u001b[0m\u001b[0;34m\"tsunami\"\u001b[0m\u001b[0;34m:\u001b[0m\u001b[0;36m0\u001b[0m\u001b[0;34m,\u001b[0m\u001b[0;34m\"sig\"\u001b[0m\u001b[0;34m:\u001b[0m\u001b[0;36m884\u001b[0m\u001b[0;34m,\u001b[0m\u001b[0;34m\"net\"\u001b[0m\u001b[0;34m:\u001b[0m\u001b[0;34m\"us\"\u001b[0m\u001b[0;34m,\u001b[0m\u001b[0;34m\"code\"\u001b[0m\u001b[0;34m:\u001b[0m\u001b[0;34m\"6000abp7\"\u001b[0m\u001b[0;34m,\u001b[0m\u001b[0;34m\"ids\"\u001b[0m\u001b[0;34m:\u001b[0m\u001b[0;34m\",us6000abp7,\"\u001b[0m\u001b[0;34m,\u001b[0m\u001b[0;34m\"sources\"\u001b[0m\u001b[0;34m:\u001b[0m\u001b[0;34m\",us,\"\u001b[0m\u001b[0;34m,\u001b[0m\u001b[0;34m\"types\"\u001b[0m\u001b[0;34m:\u001b[0m\u001b[0;34m\",dyfi,losspager,origin,phase-data,shakemap,\"\u001b[0m\u001b[0;34m,\u001b[0m\u001b[0;34m\"nst\"\u001b[0m\u001b[0;34m:\u001b[0m\u001b[0mnull\u001b[0m\u001b[0;34m,\u001b[0m\u001b[0;34m\"dmin\"\u001b[0m\u001b[0;34m:\u001b[0m\u001b[0;36m11.175\u001b[0m\u001b[0;34m,\u001b[0m\u001b[0;34m\"rms\"\u001b[0m\u001b[0;34m:\u001b[0m\u001b[0;36m0.65\u001b[0m\u001b[0;34m,\u001b[0m\u001b[0;34m\"gap\"\u001b[0m\u001b[0;34m:\u001b[0m\u001b[0;36m40\u001b[0m\u001b[0;34m,\u001b[0m\u001b[0;34m\"magType\"\u001b[0m\u001b[0;34m:\u001b[0m\u001b[0;34m\"mb\"\u001b[0m\u001b[0;34m,\u001b[0m\u001b[0;34m\"type\"\u001b[0m\u001b[0;34m:\u001b[0m\u001b[0;34m\"earthquake\"\u001b[0m\u001b[0;34m,\u001b[0m\u001b[0;34m\"title\"\u001b[0m\u001b[0;34m:\u001b[0m\u001b[0;34m\"M 5.1 - 10 km NNE of Bhach?u, India\"\u001b[0m\u001b[0;34m}\u001b[0m\u001b[0;34m,\u001b[0m\u001b[0;34m\"geometry\"\u001b[0m\u001b[0;34m:\u001b[0m\u001b[0;34m{\u001b[0m\u001b[0;34m\"type\"\u001b[0m\u001b[0;34m:\u001b[0m\u001b[0;34m\"Point\"\u001b[0m\u001b[0;34m,\u001b[0m\u001b[0;34m\"coordinates\"\u001b[0m\u001b[0;34m:\u001b[0m\u001b[0;34m[\u001b[0m\u001b[0;36m70.3817\u001b[0m\u001b[0;34m,\u001b[0m\u001b[0;36m23.3871\u001b[0m\u001b[0;34m,\u001b[0m\u001b[0;36m10\u001b[0m\u001b[0;34m]\u001b[0m\u001b[0;34m}\u001b[0m\u001b[0;34m,\u001b[0m\u001b[0;34m\"id\"\u001b[0m\u001b[0;34m:\u001b[0m\u001b[0;34m\"us6000abp7\"\u001b[0m\u001b[0;34m}\u001b[0m\u001b[0;34m\u001b[0m\u001b[0;34m\u001b[0m\u001b[0m\n\u001b[0m",
      "\u001b[0;31mNameError\u001b[0m: name 'null' is not defined"
     ]
    }
   ],
   "source": [
    "quake = {\"type\":\"Feature\",\"properties\":{\"mag\":5.1,\"place\":\"10 km NNE of Bhach?u, India\",\"time\":1592145788290,\"updated\":1592500322647,\"tz\":null,\"url\":\"https://earthquake.usgs.gov/earthquakes/eventpage/us6000abp7\",\"detail\":\"https://earthquake.usgs.gov/earthquakes/feed/v1.0/detail/us6000abp7.geojson\",\"felt\":434,\"cdi\":5.4,\"mmi\":6.697,\"alert\":\"yellow\",\"status\":\"reviewed\",\"tsunami\":0,\"sig\":884,\"net\":\"us\",\"code\":\"6000abp7\",\"ids\":\",us6000abp7,\",\"sources\":\",us,\",\"types\":\",dyfi,losspager,origin,phase-data,shakemap,\",\"nst\":null,\"dmin\":11.175,\"rms\":0.65,\"gap\":40,\"magType\":\"mb\",\"type\":\"earthquake\",\"title\":\"M 5.1 - 10 km NNE of Bhach?u, India\"},\"geometry\":{\"type\":\"Point\",\"coordinates\":[70.3817,23.3871,10]},\"id\":\"us6000abp7\"}"
   ]
  },
  {
   "cell_type": "code",
   "execution_count": 42,
   "metadata": {},
   "outputs": [],
   "source": [
    "quake = {\"type\":\"Feature\",\"properties\":{\"mag\":5.1,\"place\":\"10 km NNE of Bhach?u, India\",\"time\":1592145788290,\"updated\":1592500322647,\"tz\":\"null\",\"url\":\"https://earthquake.usgs.gov/earthquakes/eventpage/us6000abp7\",\"detail\":\"https://earthquake.usgs.gov/earthquakes/feed/v1.0/detail/us6000abp7.geojson\",\"felt\":434,\"cdi\":5.4,\"mmi\":6.697,\"alert\":\"yellow\",\"status\":\"reviewed\",\"tsunami\":0,\"sig\":884,\"net\":\"us\",\"code\":\"6000abp7\",\"ids\":\",us6000abp7,\",\"sources\":\",us,\",\"types\":\",dyfi,losspager,origin,phase-data,shakemap,\",\"nst\":\"null\",\"dmin\":11.175,\"rms\":0.65,\"gap\":40,\"magType\":\"mb\",\"type\":\"earthquake\",\"title\":\"M 5.1 - 10 km NNE of Bhach?u, India\"},\n",
    " \"geometry\":{\"type\":\"Point\",\"coordinates\":[70.3817,23.3871,10]},\"id\":\"us6000abp7\"}"
   ]
  },
  {
   "cell_type": "code",
   "execution_count": 43,
   "metadata": {},
   "outputs": [
    {
     "data": {
      "text/plain": [
       "{'type': 'Point', 'coordinates': [70.3817, 23.3871, 10]}"
      ]
     },
     "execution_count": 43,
     "metadata": {},
     "output_type": "execute_result"
    }
   ],
   "source": [
    "quake[\"geometry\"]"
   ]
  },
  {
   "cell_type": "code",
   "execution_count": 44,
   "metadata": {},
   "outputs": [],
   "source": [
    "quake_geometry.append(quake[\"geometry\"])"
   ]
  },
  {
   "cell_type": "code",
   "execution_count": 45,
   "metadata": {},
   "outputs": [],
   "source": [
    "Earthquake.append(quake)"
   ]
  },
  {
   "cell_type": "code",
   "execution_count": 46,
   "metadata": {},
   "outputs": [
    {
     "data": {
      "text/plain": [
       "{'type': 'Feature',\n",
       " 'properties': {'mag': 5.1,\n",
       "  'place': '10 km NNE of Bhach?u, India',\n",
       "  'time': 1592145788290,\n",
       "  'updated': 1592500322647,\n",
       "  'tz': 'null',\n",
       "  'url': 'https://earthquake.usgs.gov/earthquakes/eventpage/us6000abp7',\n",
       "  'detail': 'https://earthquake.usgs.gov/earthquakes/feed/v1.0/detail/us6000abp7.geojson',\n",
       "  'felt': 434,\n",
       "  'cdi': 5.4,\n",
       "  'mmi': 6.697,\n",
       "  'alert': 'yellow',\n",
       "  'status': 'reviewed',\n",
       "  'tsunami': 0,\n",
       "  'sig': 884,\n",
       "  'net': 'us',\n",
       "  'code': '6000abp7',\n",
       "  'ids': ',us6000abp7,',\n",
       "  'sources': ',us,',\n",
       "  'types': ',dyfi,losspager,origin,phase-data,shakemap,',\n",
       "  'nst': 'null',\n",
       "  'dmin': 11.175,\n",
       "  'rms': 0.65,\n",
       "  'gap': 40,\n",
       "  'magType': 'mb',\n",
       "  'type': 'earthquake',\n",
       "  'title': 'M 5.1 - 10 km NNE of Bhach?u, India'},\n",
       " 'geometry': {'type': 'Point', 'coordinates': [70.3817, 23.3871, 10]},\n",
       " 'id': 'us6000abp7'}"
      ]
     },
     "execution_count": 46,
     "metadata": {},
     "output_type": "execute_result"
    }
   ],
   "source": [
    "Earthquake[1]"
   ]
  },
  {
   "cell_type": "code",
   "execution_count": 47,
   "metadata": {},
   "outputs": [],
   "source": [
    "quake_list.append(quake)"
   ]
  },
  {
   "cell_type": "code",
   "execution_count": 56,
   "metadata": {},
   "outputs": [],
   "source": [
    "quake = {\"type\":\"Feature\",\n",
    "         \"properties\":{\n",
    "                         \"mag\":6.6,\n",
    "                         \"place\":\"135 km WNW of Naze, Japan\",\n",
    "                         \"time\":1592063483368,\n",
    "                         \"updated\":1592430579414,\n",
    "                         \"tz\":\"null\",\n",
    "                         \"url\":\"https://earthquake.usgs.gov/earthquakes/eventpage/us6000abcq\",\n",
    "                         \"detail\":\"https://earthquake.usgs.gov/earthquakes/feed/v1.0/detail/us6000abcq.geojson\",\n",
    "                         \"felt\":136,\n",
    "                         \"cdi\":4.6,\n",
    "                         \"mmi\":4.377,\n",
    "                         \"alert\":\"green\",\n",
    "                         \"status\":\"reviewed\",\n",
    "                         \"tsunami\":1,\n",
    "                         \"sig\":733,\n",
    "                         \"net\":\"us\",\n",
    "                         \"code\":\"6000abcq\",\n",
    "                         \"ids\":\",at00qbvg1n,pt20165054,us6000abcq,\",\n",
    "                         \"sources\":\",at,pt,us,\",\n",
    "                         \"types\":\",dyfi,ground-failure,impact-link,losspager,moment-tensor,origin,phase-data,shakemap,\",\n",
    "                         \"nst\":\"null\",\n",
    "                         \"dmin\":2.094,\n",
    "                         \"rms\":0.99,\n",
    "                         \"gap\":30,\n",
    "                         \"magType\":\"mww\",\n",
    "                         \"type\":\"earthquake\",\n",
    "                         \"title\":\"M 6.6 - 135 km WNW of Naze, Japan\"\n",
    "                     },\n",
    "         \"geometry\":{\"type\":\"Point\",\"coordinates\":[128.2621,28.9386,159.62]},\n",
    "         \"id\":\"us6000abcq\",\"bbox\":[-177.8383,-33.2938,8.23,128.2621,37.414,159.62]}"
   ]
  },
  {
   "cell_type": "code",
   "execution_count": 57,
   "metadata": {},
   "outputs": [
    {
     "data": {
      "text/plain": [
       "{'type': 'Feature',\n",
       " 'properties': {'mag': 6.6,\n",
       "  'place': '135 km WNW of Naze, Japan',\n",
       "  'time': 1592063483368,\n",
       "  'updated': 1592430579414,\n",
       "  'tz': 'null',\n",
       "  'url': 'https://earthquake.usgs.gov/earthquakes/eventpage/us6000abcq',\n",
       "  'detail': 'https://earthquake.usgs.gov/earthquakes/feed/v1.0/detail/us6000abcq.geojson',\n",
       "  'felt': 136,\n",
       "  'cdi': 4.6,\n",
       "  'mmi': 4.377,\n",
       "  'alert': 'green',\n",
       "  'status': 'reviewed',\n",
       "  'tsunami': 1,\n",
       "  'sig': 733,\n",
       "  'net': 'us',\n",
       "  'code': '6000abcq',\n",
       "  'ids': ',at00qbvg1n,pt20165054,us6000abcq,',\n",
       "  'sources': ',at,pt,us,',\n",
       "  'types': ',dyfi,ground-failure,impact-link,losspager,moment-tensor,origin,phase-data,shakemap,',\n",
       "  'nst': 'null',\n",
       "  'dmin': 2.094,\n",
       "  'rms': 0.99,\n",
       "  'gap': 30,\n",
       "  'magType': 'mww',\n",
       "  'type': 'earthquake',\n",
       "  'title': 'M 6.6 - 135 km WNW of Naze, Japan'},\n",
       " 'geometry': {'type': 'Point', 'coordinates': [128.2621, 28.9386, 159.62]},\n",
       " 'id': 'us6000abcq',\n",
       " 'bbox': [-177.8383, -33.2938, 8.23, 128.2621, 37.414, 159.62]}"
      ]
     },
     "execution_count": 57,
     "metadata": {},
     "output_type": "execute_result"
    }
   ],
   "source": [
    "quake"
   ]
  },
  {
   "cell_type": "code",
   "execution_count": 58,
   "metadata": {},
   "outputs": [
    {
     "data": {
      "text/plain": [
       "{'type': 'Point', 'coordinates': [128.2621, 28.9386, 159.62]}"
      ]
     },
     "execution_count": 58,
     "metadata": {},
     "output_type": "execute_result"
    }
   ],
   "source": [
    "quake[\"geometry\"]"
   ]
  },
  {
   "cell_type": "code",
   "execution_count": 59,
   "metadata": {},
   "outputs": [],
   "source": [
    "Earthquake.append(quake)"
   ]
  },
  {
   "cell_type": "code",
   "execution_count": 60,
   "metadata": {},
   "outputs": [
    {
     "data": {
      "text/plain": [
       "{'type': 'Feature',\n",
       " 'properties': {'mag': 6.6,\n",
       "  'place': '135 km WNW of Naze, Japan',\n",
       "  'time': 1592063483368,\n",
       "  'updated': 1592430579414,\n",
       "  'tz': 'null',\n",
       "  'url': 'https://earthquake.usgs.gov/earthquakes/eventpage/us6000abcq',\n",
       "  'detail': 'https://earthquake.usgs.gov/earthquakes/feed/v1.0/detail/us6000abcq.geojson',\n",
       "  'felt': 136,\n",
       "  'cdi': 4.6,\n",
       "  'mmi': 4.377,\n",
       "  'alert': 'green',\n",
       "  'status': 'reviewed',\n",
       "  'tsunami': 1,\n",
       "  'sig': 733,\n",
       "  'net': 'us',\n",
       "  'code': '6000abcq',\n",
       "  'ids': ',at00qbvg1n,pt20165054,us6000abcq,',\n",
       "  'sources': ',at,pt,us,',\n",
       "  'types': ',dyfi,ground-failure,impact-link,losspager,moment-tensor,origin,phase-data,shakemap,',\n",
       "  'nst': 'null',\n",
       "  'dmin': 2.094,\n",
       "  'rms': 0.99,\n",
       "  'gap': 30,\n",
       "  'magType': 'mww',\n",
       "  'type': 'earthquake',\n",
       "  'title': 'M 6.6 - 135 km WNW of Naze, Japan'},\n",
       " 'geometry': {'type': 'Point', 'coordinates': [128.2621, 28.9386, 159.62]},\n",
       " 'id': 'us6000abcq',\n",
       " 'bbox': [-177.8383, -33.2938, 8.23, 128.2621, 37.414, 159.62]}"
      ]
     },
     "execution_count": 60,
     "metadata": {},
     "output_type": "execute_result"
    }
   ],
   "source": [
    "Earthquake[2]"
   ]
  },
  {
   "cell_type": "code",
   "execution_count": 61,
   "metadata": {},
   "outputs": [],
   "source": [
    "quake_geometry.append(quake[\"geometry\"])"
   ]
  },
  {
   "cell_type": "code",
   "execution_count": 62,
   "metadata": {},
   "outputs": [],
   "source": [
    "quake_list.append(quake)"
   ]
  },
  {
   "cell_type": "code",
   "execution_count": 73,
   "metadata": {},
   "outputs": [],
   "source": [
    "Metadata = {\"type\":\"FeatureCollection\",\n",
    "            \"metadata\":{\n",
    "                            \"generated\":1592516142000,\n",
    "                            \"url\":\"https://earthquake.usgs.gov/earthquakes/feed/v1.0/summary/significant_week.geojson\",\n",
    "                            \"title\":\"USGS Significant Earthquakes, Past Week\",\n",
    "                            \"status\":200,\n",
    "                            \"api\":\"1.10.0\",\n",
    "                            \"count\":4\n",
    "                        },\n",
    "            \n",
    "            \"features\":{\"type\":\"Feature\",\n",
    "                         \"properties\":{\n",
    "                                         \"mag\":7.4,\n",
    "                                         \"place\":\"south of the Kermadec Islands\",\n",
    "                                         \"time\":1592484593747,\n",
    "                                         \"updated\":1592515219397,\n",
    "                                         \"tz\":\"null\",\n",
    "                                         \"url\":\"https://earthquake.usgs.gov/earthquakes/eventpage/us6000ae4n\",\n",
    "                                         \"detail\":\"https://earthquake.usgs.gov/earthquakes/feed/v1.0/detail/us6000ae4n.geojson\",\n",
    "                                         \"felt\":41,\n",
    "                                         \"cdi\":6.6,\n",
    "                                         \"mmi\":7.131,\n",
    "                                         \"alert\":\"green\",\n",
    "                                         \"status\":\"reviewed\",\n",
    "                                         \"tsunami\":1,\n",
    "                                         \"sig\":870,\n",
    "                                         \"net\":\"us\",\n",
    "                                         \"code\":\"6000ae4n\",\n",
    "                                         \"ids\":\",at00qc4gz1,pt20170001,us6000ae4n,\",\n",
    "                                         \"sources\":\",at,pt,us,\",\n",
    "                                         \"types\":\",dyfi,general-text,impact-link,losspager,moment-tensor,origin,phase-data,shakemap,\",\n",
    "                                         \"nst\":\"null\",\n",
    "                                         \"dmin\":4.037,\n",
    "                                         \"rms\":0.81,\n",
    "                                         \"gap\":23,\n",
    "                                         \"magType\":\"mww\",\n",
    "                                         \"type\":\"earthquake\",\n",
    "                                         \"title\":\"M 7.4 - south of the Kermadec Islands\"\n",
    "                                     },\n",
    "                        \"geometry\":{\n",
    "                                    \"type\":\"Point\",\n",
    "                                    \"coordinates\":[-177.8383,-33.2938,10]\n",
    "                                    },\n",
    "                        \"id\":\"us6000ae4n\"\n",
    "                         }\n",
    "           }"
   ]
  },
  {
   "cell_type": "code",
   "execution_count": 74,
   "metadata": {},
   "outputs": [
    {
     "data": {
      "text/plain": [
       "{'type': 'FeatureCollection',\n",
       " 'metadata': {'generated': 1592516142000,\n",
       "  'url': 'https://earthquake.usgs.gov/earthquakes/feed/v1.0/summary/significant_week.geojson',\n",
       "  'title': 'USGS Significant Earthquakes, Past Week',\n",
       "  'status': 200,\n",
       "  'api': '1.10.0',\n",
       "  'count': 4},\n",
       " 'features': {'type': 'Feature',\n",
       "  'properties': {'mag': 7.4,\n",
       "   'place': 'south of the Kermadec Islands',\n",
       "   'time': 1592484593747,\n",
       "   'updated': 1592515219397,\n",
       "   'tz': 'null',\n",
       "   'url': 'https://earthquake.usgs.gov/earthquakes/eventpage/us6000ae4n',\n",
       "   'detail': 'https://earthquake.usgs.gov/earthquakes/feed/v1.0/detail/us6000ae4n.geojson',\n",
       "   'felt': 41,\n",
       "   'cdi': 6.6,\n",
       "   'mmi': 7.131,\n",
       "   'alert': 'green',\n",
       "   'status': 'reviewed',\n",
       "   'tsunami': 1,\n",
       "   'sig': 870,\n",
       "   'net': 'us',\n",
       "   'code': '6000ae4n',\n",
       "   'ids': ',at00qc4gz1,pt20170001,us6000ae4n,',\n",
       "   'sources': ',at,pt,us,',\n",
       "   'types': ',dyfi,general-text,impact-link,losspager,moment-tensor,origin,phase-data,shakemap,',\n",
       "   'nst': 'null',\n",
       "   'dmin': 4.037,\n",
       "   'rms': 0.81,\n",
       "   'gap': 23,\n",
       "   'magType': 'mww',\n",
       "   'type': 'earthquake',\n",
       "   'title': 'M 7.4 - south of the Kermadec Islands'},\n",
       "  'geometry': {'type': 'Point', 'coordinates': [-177.8383, -33.2938, 10]},\n",
       "  'id': 'us6000ae4n'}}"
      ]
     },
     "execution_count": 74,
     "metadata": {},
     "output_type": "execute_result"
    }
   ],
   "source": [
    "Metadata"
   ]
  },
  {
   "cell_type": "code",
   "execution_count": 76,
   "metadata": {},
   "outputs": [
    {
     "data": {
      "text/plain": [
       "{'type': 'Feature',\n",
       " 'properties': {'mag': 7.4,\n",
       "  'place': 'south of the Kermadec Islands',\n",
       "  'time': 1592484593747,\n",
       "  'updated': 1592515219397,\n",
       "  'tz': 'null',\n",
       "  'url': 'https://earthquake.usgs.gov/earthquakes/eventpage/us6000ae4n',\n",
       "  'detail': 'https://earthquake.usgs.gov/earthquakes/feed/v1.0/detail/us6000ae4n.geojson',\n",
       "  'felt': 41,\n",
       "  'cdi': 6.6,\n",
       "  'mmi': 7.131,\n",
       "  'alert': 'green',\n",
       "  'status': 'reviewed',\n",
       "  'tsunami': 1,\n",
       "  'sig': 870,\n",
       "  'net': 'us',\n",
       "  'code': '6000ae4n',\n",
       "  'ids': ',at00qc4gz1,pt20170001,us6000ae4n,',\n",
       "  'sources': ',at,pt,us,',\n",
       "  'types': ',dyfi,general-text,impact-link,losspager,moment-tensor,origin,phase-data,shakemap,',\n",
       "  'nst': 'null',\n",
       "  'dmin': 4.037,\n",
       "  'rms': 0.81,\n",
       "  'gap': 23,\n",
       "  'magType': 'mww',\n",
       "  'type': 'earthquake',\n",
       "  'title': 'M 7.4 - south of the Kermadec Islands'},\n",
       " 'geometry': {'type': 'Point', 'coordinates': [-177.8383, -33.2938, 10]},\n",
       " 'id': 'us6000ae4n'}"
      ]
     },
     "execution_count": 76,
     "metadata": {},
     "output_type": "execute_result"
    }
   ],
   "source": [
    "Metadata[\"features\"]"
   ]
  },
  {
   "cell_type": "code",
   "execution_count": 77,
   "metadata": {},
   "outputs": [
    {
     "data": {
      "text/plain": [
       "{'type': 'Point', 'coordinates': [-177.8383, -33.2938, 10]}"
      ]
     },
     "execution_count": 77,
     "metadata": {},
     "output_type": "execute_result"
    }
   ],
   "source": [
    "Metadata[\"features\"][\"geometry\"]"
   ]
  },
  {
   "cell_type": "code",
   "execution_count": 78,
   "metadata": {},
   "outputs": [],
   "source": [
    "Metadata_geometry = Metadata[\"features\"][\"geometry\"]"
   ]
  },
  {
   "cell_type": "code",
   "execution_count": 79,
   "metadata": {},
   "outputs": [
    {
     "data": {
      "text/plain": [
       "[{'type': 'Feature',\n",
       "  'properties': {'mag': 3.36,\n",
       "   'place': '8km NE of Alum Rock, CA',\n",
       "   'time': 1592415302600,\n",
       "   'updated': 1592515379070,\n",
       "   'tz': 'null',\n",
       "   'url': 'https://earthquake.usgs.gov/earthquakes/eventpage/nc73410846',\n",
       "   'detail': 'https://earthquake.usgs.gov/earthquakes/feed/v1.0/detail/nc73410846.geojson',\n",
       "   'felt': 4191,\n",
       "   'cdi': 4.8,\n",
       "   'mmi': 4.05,\n",
       "   'alert': 'null',\n",
       "   'status': 'reviewed',\n",
       "   'tsunami': 0,\n",
       "   'sig': 654,\n",
       "   'net': 'nc',\n",
       "   'code': '73410846',\n",
       "   'ids': ',nc73410846, us6000adln,',\n",
       "   'sources': ',nc,us,',\n",
       "   'types': ',dyfi,focal-mechanism,moment-tensor,nearby-cities,origin,phase-data,scitech-link,shakemap,',\n",
       "   'nst': 183,\n",
       "   'dmin': 0.04136,\n",
       "   'rms': 0.09,\n",
       "   'gap': 30,\n",
       "   'magType': 'mw',\n",
       "   'type': 'earthquake',\n",
       "   'title': 'M 3.4 - 8km NE of Alum Rock, CA'},\n",
       "  'geometry': {'type': 'Point', 'coordinates': [-121.7625, 37.414, 8.23]},\n",
       "  'id': 'nc73410846'},\n",
       " {'type': 'Feature',\n",
       "  'properties': {'mag': 5.1,\n",
       "   'place': '10 km NNE of Bhach?u, India',\n",
       "   'time': 1592145788290,\n",
       "   'updated': 1592500322647,\n",
       "   'tz': 'null',\n",
       "   'url': 'https://earthquake.usgs.gov/earthquakes/eventpage/us6000abp7',\n",
       "   'detail': 'https://earthquake.usgs.gov/earthquakes/feed/v1.0/detail/us6000abp7.geojson',\n",
       "   'felt': 434,\n",
       "   'cdi': 5.4,\n",
       "   'mmi': 6.697,\n",
       "   'alert': 'yellow',\n",
       "   'status': 'reviewed',\n",
       "   'tsunami': 0,\n",
       "   'sig': 884,\n",
       "   'net': 'us',\n",
       "   'code': '6000abp7',\n",
       "   'ids': ',us6000abp7,',\n",
       "   'sources': ',us,',\n",
       "   'types': ',dyfi,losspager,origin,phase-data,shakemap,',\n",
       "   'nst': 'null',\n",
       "   'dmin': 11.175,\n",
       "   'rms': 0.65,\n",
       "   'gap': 40,\n",
       "   'magType': 'mb',\n",
       "   'type': 'earthquake',\n",
       "   'title': 'M 5.1 - 10 km NNE of Bhach?u, India'},\n",
       "  'geometry': {'type': 'Point', 'coordinates': [70.3817, 23.3871, 10]},\n",
       "  'id': 'us6000abp7'},\n",
       " {'type': 'Feature',\n",
       "  'properties': {'mag': 6.6,\n",
       "   'place': '135 km WNW of Naze, Japan',\n",
       "   'time': 1592063483368,\n",
       "   'updated': 1592430579414,\n",
       "   'tz': 'null',\n",
       "   'url': 'https://earthquake.usgs.gov/earthquakes/eventpage/us6000abcq',\n",
       "   'detail': 'https://earthquake.usgs.gov/earthquakes/feed/v1.0/detail/us6000abcq.geojson',\n",
       "   'felt': 136,\n",
       "   'cdi': 4.6,\n",
       "   'mmi': 4.377,\n",
       "   'alert': 'green',\n",
       "   'status': 'reviewed',\n",
       "   'tsunami': 1,\n",
       "   'sig': 733,\n",
       "   'net': 'us',\n",
       "   'code': '6000abcq',\n",
       "   'ids': ',at00qbvg1n,pt20165054,us6000abcq,',\n",
       "   'sources': ',at,pt,us,',\n",
       "   'types': ',dyfi,ground-failure,impact-link,losspager,moment-tensor,origin,phase-data,shakemap,',\n",
       "   'nst': 'null',\n",
       "   'dmin': 2.094,\n",
       "   'rms': 0.99,\n",
       "   'gap': 30,\n",
       "   'magType': 'mww',\n",
       "   'type': 'earthquake',\n",
       "   'title': 'M 6.6 - 135 km WNW of Naze, Japan'},\n",
       "  'geometry': {'type': 'Point', 'coordinates': [128.2621, 28.9386, 159.62]},\n",
       "  'id': 'us6000abcq',\n",
       "  'bbox': [-177.8383, -33.2938, 8.23, 128.2621, 37.414, 159.62]}]"
      ]
     },
     "execution_count": 79,
     "metadata": {},
     "output_type": "execute_result"
    }
   ],
   "source": [
    "quake_list"
   ]
  },
  {
   "cell_type": "code",
   "execution_count": 81,
   "metadata": {},
   "outputs": [
    {
     "data": {
      "text/plain": [
       "[{'type': 'Feature',\n",
       "  'properties': {'mag': 3.36,\n",
       "   'place': '8km NE of Alum Rock, CA',\n",
       "   'time': 1592415302600,\n",
       "   'updated': 1592515379070,\n",
       "   'tz': 'null',\n",
       "   'url': 'https://earthquake.usgs.gov/earthquakes/eventpage/nc73410846',\n",
       "   'detail': 'https://earthquake.usgs.gov/earthquakes/feed/v1.0/detail/nc73410846.geojson',\n",
       "   'felt': 4191,\n",
       "   'cdi': 4.8,\n",
       "   'mmi': 4.05,\n",
       "   'alert': 'null',\n",
       "   'status': 'reviewed',\n",
       "   'tsunami': 0,\n",
       "   'sig': 654,\n",
       "   'net': 'nc',\n",
       "   'code': '73410846',\n",
       "   'ids': ',nc73410846, us6000adln,',\n",
       "   'sources': ',nc,us,',\n",
       "   'types': ',dyfi,focal-mechanism,moment-tensor,nearby-cities,origin,phase-data,scitech-link,shakemap,',\n",
       "   'nst': 183,\n",
       "   'dmin': 0.04136,\n",
       "   'rms': 0.09,\n",
       "   'gap': 30,\n",
       "   'magType': 'mw',\n",
       "   'type': 'earthquake',\n",
       "   'title': 'M 3.4 - 8km NE of Alum Rock, CA'},\n",
       "  'geometry': {'type': 'Point', 'coordinates': [-121.7625, 37.414, 8.23]},\n",
       "  'id': 'nc73410846'},\n",
       " {'type': 'Feature',\n",
       "  'properties': {'mag': 5.1,\n",
       "   'place': '10 km NNE of Bhach?u, India',\n",
       "   'time': 1592145788290,\n",
       "   'updated': 1592500322647,\n",
       "   'tz': 'null',\n",
       "   'url': 'https://earthquake.usgs.gov/earthquakes/eventpage/us6000abp7',\n",
       "   'detail': 'https://earthquake.usgs.gov/earthquakes/feed/v1.0/detail/us6000abp7.geojson',\n",
       "   'felt': 434,\n",
       "   'cdi': 5.4,\n",
       "   'mmi': 6.697,\n",
       "   'alert': 'yellow',\n",
       "   'status': 'reviewed',\n",
       "   'tsunami': 0,\n",
       "   'sig': 884,\n",
       "   'net': 'us',\n",
       "   'code': '6000abp7',\n",
       "   'ids': ',us6000abp7,',\n",
       "   'sources': ',us,',\n",
       "   'types': ',dyfi,losspager,origin,phase-data,shakemap,',\n",
       "   'nst': 'null',\n",
       "   'dmin': 11.175,\n",
       "   'rms': 0.65,\n",
       "   'gap': 40,\n",
       "   'magType': 'mb',\n",
       "   'type': 'earthquake',\n",
       "   'title': 'M 5.1 - 10 km NNE of Bhach?u, India'},\n",
       "  'geometry': {'type': 'Point', 'coordinates': [70.3817, 23.3871, 10]},\n",
       "  'id': 'us6000abp7'},\n",
       " {'type': 'Feature',\n",
       "  'properties': {'mag': 6.6,\n",
       "   'place': '135 km WNW of Naze, Japan',\n",
       "   'time': 1592063483368,\n",
       "   'updated': 1592430579414,\n",
       "   'tz': 'null',\n",
       "   'url': 'https://earthquake.usgs.gov/earthquakes/eventpage/us6000abcq',\n",
       "   'detail': 'https://earthquake.usgs.gov/earthquakes/feed/v1.0/detail/us6000abcq.geojson',\n",
       "   'felt': 136,\n",
       "   'cdi': 4.6,\n",
       "   'mmi': 4.377,\n",
       "   'alert': 'green',\n",
       "   'status': 'reviewed',\n",
       "   'tsunami': 1,\n",
       "   'sig': 733,\n",
       "   'net': 'us',\n",
       "   'code': '6000abcq',\n",
       "   'ids': ',at00qbvg1n,pt20165054,us6000abcq,',\n",
       "   'sources': ',at,pt,us,',\n",
       "   'types': ',dyfi,ground-failure,impact-link,losspager,moment-tensor,origin,phase-data,shakemap,',\n",
       "   'nst': 'null',\n",
       "   'dmin': 2.094,\n",
       "   'rms': 0.99,\n",
       "   'gap': 30,\n",
       "   'magType': 'mww',\n",
       "   'type': 'earthquake',\n",
       "   'title': 'M 6.6 - 135 km WNW of Naze, Japan'},\n",
       "  'geometry': {'type': 'Point', 'coordinates': [128.2621, 28.9386, 159.62]},\n",
       "  'id': 'us6000abcq',\n",
       "  'bbox': [-177.8383, -33.2938, 8.23, 128.2621, 37.414, 159.62]}]"
      ]
     },
     "execution_count": 81,
     "metadata": {},
     "output_type": "execute_result"
    }
   ],
   "source": [
    "Earthquake"
   ]
  },
  {
   "cell_type": "code",
   "execution_count": 82,
   "metadata": {},
   "outputs": [
    {
     "data": {
      "text/plain": [
       "[{'type': 'Point', 'coordinates': [-121.7625, 37.414, 8.23]},\n",
       " {'type': 'Point', 'coordinates': [70.3817, 23.3871, 10]},\n",
       " {'type': 'Point', 'coordinates': [128.2621, 28.9386, 159.62]}]"
      ]
     },
     "execution_count": 82,
     "metadata": {},
     "output_type": "execute_result"
    }
   ],
   "source": [
    "quake_geometry"
   ]
  },
  {
   "cell_type": "code",
   "execution_count": null,
   "metadata": {},
   "outputs": [],
   "source": []
  }
 ],
 "metadata": {
  "kernelspec": {
   "display_name": "Python 3",
   "language": "python",
   "name": "python3"
  },
  "language_info": {
   "codemirror_mode": {
    "name": "ipython",
    "version": 3
   },
   "file_extension": ".py",
   "mimetype": "text/x-python",
   "name": "python",
   "nbconvert_exporter": "python",
   "pygments_lexer": "ipython3",
   "version": "3.7.6"
  }
 },
 "nbformat": 4,
 "nbformat_minor": 4
}
